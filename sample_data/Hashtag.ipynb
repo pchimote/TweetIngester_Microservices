{
 "cells": [
  {
   "cell_type": "code",
   "execution_count": 1,
   "metadata": {},
   "outputs": [],
   "source": [
    "from datetime import datetime\n",
    "import json\n",
    "import os\n",
    "import sys\n",
    "import pandas as pd\n",
    "import numpy as np\n",
    "from collections import Counter\n",
    "import matplotlib.pyplot as plt\n",
    "\n",
    "# Constants.\n",
    "QUERY_TYPE = ['hashtag', 'username']\n",
    "\n",
    "# Validate command-line arguments.\n",
    "#args = sys.argv[1:]\n",
    "#if (len(args) != 3):\n",
    "#    print('Usage: {} <FILENAME> <{}> <QUERY>'.format(sys.argv[0], ','.join(QUERY_TYPE)))\n",
    "#    sys.exit(1)\n",
    "\n",
    "filename = \"./data.json\"\n",
    "search_type = \"hashtag\" #args[1].lower()\n",
    "query = \"WalterScott\" #args[2].lower()\n",
    "n = 5\n",
    "\n",
    "# Check that file exists and read from it.\n",
    "#if (not os.path.isfile(filename)):\n",
    "#    print('File \"{}\" not found'.format(filename))\n",
    "#    sys.exit(1)\n",
    "\n",
    "#if (search_type not in QUERY_TYPE):\n",
    "#    print('Query type must be one of', QUERY_TYPE)\n",
    "#    sys.exit(1)\n",
    "\n",
    "#read_start = datetime.now()\n",
    "#with open(filename, encoding=\"utf8\") as tweet_file:\n",
    "#    tweet_data = tweet_file.read()\n",
    "\n",
    "#read_end = datetime.now()\n",
    "#print('Read time:', read_end - read_start, 'ms')\n",
    "\n",
    "# Parse into json.\n",
    "#json_start = datetime.now()\n",
    "#tweet_json = json.loads(tweet_data)\n",
    "#json_end = datetime.now()\n",
    "#print('JSON parse time:', json_end - json_start, 'ms')\n",
    "\n",
    "tweet_pd = pd.read_json(\"./data.json\", convert_dates = \"False\")"
   ]
  },
  {
   "cell_type": "markdown",
   "metadata": {},
   "source": [
    "### 1. Find tweets with given Hashtag\n",
    "- Number of tweets\n",
    "- Tweets on given day/hour (filtering)"
   ]
  },
  {
   "cell_type": "code",
   "execution_count": 2,
   "metadata": {},
   "outputs": [
    {
     "name": "stdout",
     "output_type": "stream",
     "text": [
      "Query time: 0:00:00.170685\n",
      "Number of tweets with given Hashtag Query: 190971\n",
      "\n"
     ]
    }
   ],
   "source": [
    "# Number of tweets\n",
    "query_start = datetime.now()\n",
    "if (search_type == 'hashtag'):\n",
    "    hashtag_query = '#{}'.format(query)\n",
    "    results = [t for t in tweet_pd['text'] if hashtag_query in t]\n",
    "else:\n",
    "    print('Unimplemented query type')\n",
    "    sys.exit(1)\n",
    "query_end = datetime.now()\n",
    "print('Query time:', query_end - query_start)\n",
    "\n",
    "print('Number of tweets with given Hashtag Query: {}'.format(len(results)))\n",
    "print()"
   ]
  },
  {
   "cell_type": "code",
   "execution_count": 3,
   "metadata": {},
   "outputs": [
    {
     "name": "stdout",
     "output_type": "stream",
     "text": [
      "Number of tweets with given Hashtag Query on 2015-04-17 18 : 122\n"
     ]
    }
   ],
   "source": [
    "# Tweets on given day/hour (filtering)\n",
    "date_time_query = \"2015-04-17 18\"\n",
    "tweet_pd = tweet_pd.astype(str) \n",
    "data_1 = tweet_pd[tweet_pd['created_at'].str.startswith(date_time_query)]\n",
    "\n",
    "hashtag_query = '#{}'.format(query)\n",
    "results_1 = [t for t in data_1['text'] if hashtag_query in t]\n",
    "    \n",
    "print('Number of tweets with given Hashtag Query on {} : {}'.format(date_time_query,len(results_1)))\n",
    "#print(\"Tweets:\", results_1)"
   ]
  },
  {
   "cell_type": "markdown",
   "metadata": {},
   "source": [
    "### 2.\tFind users with given Hashtag: (Ikjot)\n",
    "- Number of users (unique)\n",
    "- Top ‘n’ users with given Hashtag (with max tweets)"
   ]
  },
  {
   "cell_type": "code",
   "execution_count": 7,
   "metadata": {
    "scrolled": false
   },
   "outputs": [
    {
     "name": "stdout",
     "output_type": "stream",
     "text": [
      "dataframe with #WalterScott:       archivesource                                               text  \\\n",
      "1    twitter-search  RT @BBCNewsUS: South Carolina police officer i...   \n",
      "2    twitter-search  RT @AC360: IÃ¢â‚¬â„¢m supposed to be really an...   \n",
      "3    twitter-search  RT @etanthomas36: RIP #WalterScott\\nMaybe afte...   \n",
      "4    twitter-search  RT @iBChrisMoses: Oh Jesus. RT @Bipartisanism:...   \n",
      "5    twitter-search  shooting/killing a human fr such a simple viol...   \n",
      "..              ...                                                ...   \n",
      "96   twitter-search  RT @deray: And here is the front page of today...   \n",
      "97   twitter-search  RT @Aidy_B_: Servir son pays, ÃƒÂªtre pÃƒÂ¨re,...   \n",
      "98   twitter-search  RT @CCPNews: BREAKING: #WalterScott protesters...   \n",
      "99   twitter-search  RT @elonjames: NEW @TWIBprime: Breaking down t...   \n",
      "100  twitter-search  RT @3CarryOnItems: Good luck RT @Bipartisanism...   \n",
      "\n",
      "    to_user_id        from_user                  id from_user_id  \\\n",
      "1                     jenrjones  586220044490772480    300352746   \n",
      "2               KristinRunyan13  586220041961611264    251906920   \n",
      "3                  orbitalflyby  586220041949077504    352587427   \n",
      "4                LoveDejaSimone  586220041470881792   2570943944   \n",
      "5                   Mac_mcarthy  586220038002188288     48788356   \n",
      "..         ...              ...                 ...          ...   \n",
      "96                     gaumwhat  586219864278208512    132561786   \n",
      "97                   Bmordacs94  586219856980213760   1265642726   \n",
      "98                 ReneeRiphone  586219856158191616   2343301235   \n",
      "99                    MzTakeova  586219853566111744     48452573   \n",
      "100                    raerozay  586219822977003520    318116161   \n",
      "\n",
      "    iso_language_code                                             source  \\\n",
      "1                  en  <a href=\"https://about.twitter.com/products/tw...   \n",
      "2                  en  <a href=\"http://twitter.com/download/android\" ...   \n",
      "3                  en  <a href=\"http://twitter.com/download/android\" ...   \n",
      "4                  en  <a href=\"http://twitter.com/download/android\" ...   \n",
      "5                  en  <a href=\"http://twitter.com\" rel=\"nofollow\">Tw...   \n",
      "..                ...                                                ...   \n",
      "96                 en  <a href=\"http://twitter.com/download/iphone\" r...   \n",
      "97                 fr  <a href=\"http://twitter.com/download/android\" ...   \n",
      "98                 en  <a href=\"http://twitter.com/download/iphone\" r...   \n",
      "99                 en  <a href=\"http://donateyouraccount.com\" rel=\"no...   \n",
      "100                en  <a href=\"http://twitter.com/download/iphone\" r...   \n",
      "\n",
      "                                     profile_image_url geo_type  \\\n",
      "1    http://pbs.twimg.com/profile_background_images...            \n",
      "2    http://pbs.twimg.com/profile_background_images...            \n",
      "3    http://abs.twimg.com/images/themes/theme10/bg.gif            \n",
      "4     http://abs.twimg.com/images/themes/theme1/bg.png            \n",
      "5     http://abs.twimg.com/images/themes/theme9/bg.gif            \n",
      "..                                                 ...      ...   \n",
      "96   http://pbs.twimg.com/profile_background_images...            \n",
      "97   http://pbs.twimg.com/profile_background_images...            \n",
      "98    http://abs.twimg.com/images/themes/theme1/bg.png            \n",
      "99   http://pbs.twimg.com/profile_background_images...            \n",
      "100  http://pbs.twimg.com/profile_background_images...            \n",
      "\n",
      "    geo_coordinates_0 geo_coordinates_1                created_at        time  \\\n",
      "1                 0.0               0.0 2015-04-09 17:32:04+00:00  1428600724   \n",
      "2                 0.0               0.0 2015-04-09 17:32:04+00:00  1428600724   \n",
      "3                 0.0               0.0 2015-04-09 17:32:04+00:00  1428600724   \n",
      "4                 0.0               0.0 2015-04-09 17:32:03+00:00  1428600723   \n",
      "5                 0.0               0.0 2015-04-09 17:32:03+00:00  1428600723   \n",
      "..                ...               ...                       ...         ...   \n",
      "96                0.0               0.0 2015-04-09 17:31:21+00:00  1428600681   \n",
      "97                0.0               0.0 2015-04-09 17:31:19+00:00  1428600679   \n",
      "98                0.0               0.0 2015-04-09 17:31:19+00:00  1428600679   \n",
      "99                0.0               0.0 2015-04-09 17:31:19+00:00  1428600679   \n",
      "100               0.0               0.0 2015-04-09 17:31:11+00:00  1428600671   \n",
      "\n",
      "           date  \n",
      "1    2015-04-09  \n",
      "2    2015-04-09  \n",
      "3    2015-04-09  \n",
      "4    2015-04-09  \n",
      "5    2015-04-09  \n",
      "..          ...  \n",
      "96   2015-04-09  \n",
      "97   2015-04-09  \n",
      "98   2015-04-09  \n",
      "99   2015-04-09  \n",
      "100  2015-04-09  \n",
      "\n",
      "[98 rows x 15 columns]\n",
      "\n",
      "98\n",
      "\n",
      "total unique users: 90\n",
      "\n",
      "top 5 users in terms of frequency brianj135       2\n",
      "kraye211        2\n",
      "veronicavery    2\n",
      "keystro         2\n",
      "afaduln2        2\n",
      "f42892934       2\n",
      "Name: from_user, dtype: int64\n"
     ]
    },
    {
     "data": {
      "image/png": "[encoded data removed]",
      "text/plain": [
       "<Figure size 432x288 with 1 Axes>"
      ]
     },
     "metadata": {
      "needs_background": "light"
     },
     "output_type": "display_data"
    }
   ],
   "source": [
    "# converting to datetime type and extracting date part from it\n",
    "#df1 = tweet_pd.copy(deep=True)\n",
    "df1 = tweet_pd.truncate(before=1, after=100)\n",
    "df1['created_at']= pd.to_datetime(df1['created_at'])\n",
    "df1['date'] = df1['created_at'].dt.date\n",
    "\n",
    "def hashtag(hashtag_query):\n",
    "    unique_users = []\n",
    "    results = df1[df1['text'].str.contains(hashtag_query)] #dataframe with given hashtags\n",
    "    No_of_tweets = results['text'].count() # no of tweets with certain #\n",
    "    users_list = results['from_user'].tolist()\n",
    "    top_users = results['from_user'].value_counts()[:6] #top 5 users interms of frequency of #\n",
    "    for w in users_list:\n",
    "        if w not in unique_users:  #finding unique users\n",
    "            unique_users.append(w)\n",
    "        total_users_given_hashtag = len(unique_users)    \n",
    "    print(f'dataframe with {hashtag_query}:',results)\n",
    "    print()\n",
    "    print(len(users_list))\n",
    "    print()\n",
    "    print('total unique users:',total_users_given_hashtag)\n",
    "    print()\n",
    "    print('top 5 users in terms of frequency', top_users)\n",
    "\n",
    "#visualizing number of unique users for a given hastag on a specific day.\n",
    "def visualize_unique_users(df1):\n",
    "    df_unq_users = df1[['date','from_user']]\n",
    "    grouped_df = df_unq_users.groupby(\"date\")\n",
    "    grouped_df = grouped_df.agg({\"from_user\": \"nunique\"})\n",
    "    grouped_df = grouped_df.reset_index()\n",
    "    date = grouped_df['date'].tolist()\n",
    "    from_user = grouped_df['from_user'].tolist()\n",
    "    plt.plot(date,from_user)\n",
    "    plt.plot()\n",
    "\n",
    "hashtag(hashtag_query)\n",
    "visualize_unique_users(df1)"
   ]
  },
  {
   "cell_type": "markdown",
   "metadata": {},
   "source": [
    "### 3. Find days/number of days given Hashtag trended (highest tweets per day)"
   ]
  },
  {
   "cell_type": "code",
   "execution_count": 8,
   "metadata": {},
   "outputs": [],
   "source": [
    "# Days\n",
    "data_2 = [t[:10] for t in tweet_pd['created_at']]\n",
    "days = np.array(list(set(data_2)))\n",
    "inter_new = [int(i[8:10]) for i in days]\n",
    "days_order = days[np.argsort(inter_new)]\n",
    "\n",
    "# Hours in a day\n",
    "data_2 = [t[:13] for t in tweet_pd['created_at']]\n",
    "days = np.array(list(set(data_2)))\n",
    "inter_new = [(((int(i[8:10])-1)*25) + int(i[11:13])) for i in days]\n",
    "days_hour_order = days[np.argsort(inter_new)]"
   ]
  },
  {
   "cell_type": "code",
   "execution_count": 9,
   "metadata": {
    "scrolled": false
   },
   "outputs": [],
   "source": [
    "# 3. Find number of days(hours) given hashtag trended\n",
    "trend_info = []\n",
    "for day_hour in days_order:\n",
    "    day_info = {}\n",
    "    data_pd = tweet_pd[tweet_pd['created_at'].str.startswith(day_hour)]\n",
    "    for i in data_pd['text']:\n",
    "        tweet_data = []\n",
    "        tweet_data = [i for i in i.split() if i.startswith('#')]\n",
    "        for j in tweet_data:\n",
    "            if j in day_info:\n",
    "                day_info[j] += 1\n",
    "            else:\n",
    "                day_info[j] = 1\n",
    "    \n",
    "    number = max(day_info.values())\n",
    "    hashtag = list(day_info.keys())[list(day_info.values()).index(number)]\n",
    "    \n",
    "    trend_info.append([day_hour, hashtag, number])"
   ]
  },
  {
   "cell_type": "code",
   "execution_count": 10,
   "metadata": {},
   "outputs": [
    {
     "name": "stdout",
     "output_type": "stream",
     "text": [
      "#WalterScott hashtag trended on: 2015-04-09\n",
      "#WalterScott hashtag trended on: 2015-04-10\n",
      "#WalterScott hashtag trended on: 2015-04-11\n",
      "#WalterScott hashtag trended on: 2015-04-12\n",
      "#WalterScott hashtag trended on: 2015-04-13\n",
      "#WalterScott hashtag trended on: 2015-04-14\n",
      "#WalterScott hashtag trended on: 2015-04-15\n",
      "#WalterScott hashtag trended on: 2015-04-17\n"
     ]
    }
   ],
   "source": [
    "for i in trend_info:\n",
    "    if hashtag_query in i[1]:\n",
    "        print(\"{} hashtag trended on: {}\".format(hashtag_query,i[0]))"
   ]
  },
  {
   "cell_type": "markdown",
   "metadata": {},
   "source": [
    "### 4.\tVisualize number of users/tweets with given Hashtag vs days"
   ]
  },
  {
   "cell_type": "code",
   "execution_count": 11,
   "metadata": {},
   "outputs": [
    {
     "data": {
      "image/png": "[encoded data removed]",
      "text/plain": [
       "<Figure size 720x720 with 1 Axes>"
      ]
     },
     "metadata": {
      "needs_background": "light"
     },
     "output_type": "display_data"
    }
   ],
   "source": [
    "# Tweets with query vs day_hour\n",
    "tweets_day = []\n",
    "for i in days_order:\n",
    "    data_3 = tweet_pd[tweet_pd['created_at'].str.startswith(i)]\n",
    "    count = len([t for t in data_3['text'] if hashtag_query in t])\n",
    "    tweets_day.append(count)\n",
    "    \n",
    "plt.figure(figsize=(10, 10))\n",
    "plt.plot(days_order, tweets_day, 'ro', days_order, tweets_day, 'r--')\n",
    "plt.xlabel(\"Days\")\n",
    "plt.ylabel(\"Number of Tweets\")\n",
    "plt.title(\"Number of tweets with {} query vs days\".format(hashtag_query))\n",
    "plt.show()"
   ]
  }
 ],
 "metadata": {
  "kernelspec": {
   "display_name": "Python 3",
   "language": "python",
   "name": "python3"
  },
  "language_info": {
   "codemirror_mode": {
    "name": "ipython",
    "version": 3
   },
   "file_extension": ".py",
   "mimetype": "text/x-python",
   "name": "python",
   "nbconvert_exporter": "python",
   "pygments_lexer": "ipython3",
   "version": "3.7.4"
  }
 },
 "nbformat": 4,
 "nbformat_minor": 2
}
